{
 "cells": [
  {
   "cell_type": "markdown",
   "id": "f9e78368",
   "metadata": {},
   "source": [
    "## Lists:\n"
   ]
  },
  {
   "cell_type": "code",
   "execution_count": 2,
   "id": "2b669ab4",
   "metadata": {},
   "outputs": [
    {
     "data": {
      "text/plain": [
       "[1, 2, 3, 4, 5, 6, 7]"
      ]
     },
     "execution_count": 2,
     "metadata": {},
     "output_type": "execute_result"
    }
   ],
   "source": [
    "# lists: A list is an ordered data structure with elements separated by a comma and enclosed within square brackets\n",
    "\n",
    "\n",
    "new_list = [1,2,3,4,5,6]\n",
    "\n",
    "# Adding : \n",
    "\n",
    "new_list.append(7)\n",
    "new_list"
   ]
  },
  {
   "cell_type": "code",
   "execution_count": 3,
   "id": "d179bc95",
   "metadata": {},
   "outputs": [
    {
     "data": {
      "text/plain": [
       "[1, 2, 3, 4, 6, 7]"
      ]
     },
     "execution_count": 3,
     "metadata": {},
     "output_type": "execute_result"
    }
   ],
   "source": [
    "# Removing:\n",
    "\n",
    "new_list.remove(5)\n",
    "new_list"
   ]
  },
  {
   "cell_type": "code",
   "execution_count": 4,
   "id": "dcb4a374",
   "metadata": {},
   "outputs": [
    {
     "data": {
      "text/plain": [
       "[20, 2, 3, 4, 6, 7]"
      ]
     },
     "execution_count": 4,
     "metadata": {},
     "output_type": "execute_result"
    }
   ],
   "source": [
    "# Modifying: \n",
    "\n",
    "new_list[0] = 20\n",
    "new_list"
   ]
  },
  {
   "cell_type": "markdown",
   "id": "d3e020a8",
   "metadata": {},
   "source": [
    "## Dictionary:"
   ]
  },
  {
   "cell_type": "code",
   "execution_count": 8,
   "id": "83b85aa0",
   "metadata": {},
   "outputs": [
    {
     "data": {
      "text/plain": [
       "{'name': 'Ram',\n",
       " 'Age': 28,\n",
       " 'Place': 'Hyderabad',\n",
       " 'Occupation': 'Working Professional'}"
      ]
     },
     "execution_count": 8,
     "metadata": {},
     "output_type": "execute_result"
    }
   ],
   "source": [
    "#  dictionaries are mutable data structures that allow you to store key-value pairs. \n",
    "# Dictionary can be created using the dict() constructor or curly braces' {}'.\n",
    "\n",
    "\n",
    "new_dict = {\"name\": \"Ram\", \"Age\":28, \"Place\" : \"Hyderabad\", \"Occupation\": \"Working Professional\"}\n",
    "new_dict"
   ]
  },
  {
   "cell_type": "code",
   "execution_count": 10,
   "id": "542153ce",
   "metadata": {},
   "outputs": [
    {
     "data": {
      "text/plain": [
       "{'name': 'Ram',\n",
       " 'Age': 28,\n",
       " 'Place': 'Hyderabad',\n",
       " 'Occupation': 'Working Professional',\n",
       " 'Gender': 'Male'}"
      ]
     },
     "execution_count": 10,
     "metadata": {},
     "output_type": "execute_result"
    }
   ],
   "source": [
    "# Adding: \n",
    "\n",
    "new_dict[\"Gender\"] = \"Male\"\n",
    "new_dict"
   ]
  },
  {
   "cell_type": "code",
   "execution_count": 11,
   "id": "90af3a03",
   "metadata": {},
   "outputs": [
    {
     "data": {
      "text/plain": [
       "{'name': 'Ram',\n",
       " 'Place': 'Hyderabad',\n",
       " 'Occupation': 'Working Professional',\n",
       " 'Gender': 'Male'}"
      ]
     },
     "execution_count": 11,
     "metadata": {},
     "output_type": "execute_result"
    }
   ],
   "source": [
    "# Removing: \n",
    "\n",
    "del new_dict[\"Age\"]\n",
    "new_dict"
   ]
  },
  {
   "cell_type": "code",
   "execution_count": 12,
   "id": "3f325818",
   "metadata": {},
   "outputs": [
    {
     "data": {
      "text/plain": [
       "{'name': 'Ram',\n",
       " 'Place': 'Hyderabad',\n",
       " 'Occupation': 'Data Analyst',\n",
       " 'Gender': 'Male'}"
      ]
     },
     "execution_count": 12,
     "metadata": {},
     "output_type": "execute_result"
    }
   ],
   "source": [
    "# Modifying: \n",
    "\n",
    "new_dict[\"Occupation\"] = \"Data Analyst\"\n",
    "new_dict"
   ]
  },
  {
   "cell_type": "markdown",
   "id": "f64d976b",
   "metadata": {},
   "source": [
    "## Sets :\n"
   ]
  },
  {
   "cell_type": "code",
   "execution_count": 13,
   "id": "67532004",
   "metadata": {},
   "outputs": [
    {
     "data": {
      "text/plain": [
       "{1, 2, 3, 4, 5, 6, 7}"
      ]
     },
     "execution_count": 13,
     "metadata": {},
     "output_type": "execute_result"
    }
   ],
   "source": [
    "# A set is a data collection type used in Python for storing multiple items in a single variable. \n",
    "# Sets in Python are unordered and, as such, are not always consistent in the order they get returned. \n",
    "# Furthermore, items in the set are immutable — ie. cannot be changed\n",
    "\n",
    "\n",
    "new_set = {1,2,3,4,5,6,7}\n",
    "new_set"
   ]
  },
  {
   "cell_type": "code",
   "execution_count": 14,
   "id": "645d4fad",
   "metadata": {},
   "outputs": [
    {
     "data": {
      "text/plain": [
       "{1, 2, 3, 4, 5, 6, 7, 8}"
      ]
     },
     "execution_count": 14,
     "metadata": {},
     "output_type": "execute_result"
    }
   ],
   "source": [
    "# Adding : \n",
    "\n",
    "new_set.add(8)\n",
    "new_set"
   ]
  },
  {
   "cell_type": "code",
   "execution_count": 15,
   "id": "bac24e17",
   "metadata": {},
   "outputs": [
    {
     "data": {
      "text/plain": [
       "{1, 2, 3, 4, 6, 7, 8}"
      ]
     },
     "execution_count": 15,
     "metadata": {},
     "output_type": "execute_result"
    }
   ],
   "source": [
    "# Removing:\n",
    "\n",
    "new_set.remove(5)\n",
    "new_set "
   ]
  },
  {
   "cell_type": "code",
   "execution_count": 16,
   "id": "31b74a94",
   "metadata": {},
   "outputs": [
    {
     "data": {
      "text/plain": [
       "{1, 3, 4, 6, 7, 8}"
      ]
     },
     "execution_count": 16,
     "metadata": {},
     "output_type": "execute_result"
    }
   ],
   "source": [
    "# Modifying: \n",
    "\n",
    "new_set.discard(2)\n",
    "new_set"
   ]
  },
  {
   "cell_type": "code",
   "execution_count": 17,
   "id": "f8036051",
   "metadata": {},
   "outputs": [
    {
     "name": "stdout",
     "output_type": "stream",
     "text": [
      "{'google', 'banana', 'apple', 'cherry', 'microsoft'}\n"
     ]
    }
   ],
   "source": [
    "x = {\"apple\", \"banana\", \"cherry\"}\n",
    "y = {\"google\", \"microsoft\", \"apple\"}\n",
    "\n",
    "x.update(y) \n",
    "\n",
    "print(x)"
   ]
  },
  {
   "cell_type": "code",
   "execution_count": null,
   "id": "92b74971",
   "metadata": {},
   "outputs": [],
   "source": []
  }
 ],
 "metadata": {
  "kernelspec": {
   "display_name": "Python 3 (ipykernel)",
   "language": "python",
   "name": "python3"
  },
  "language_info": {
   "codemirror_mode": {
    "name": "ipython",
    "version": 3
   },
   "file_extension": ".py",
   "mimetype": "text/x-python",
   "name": "python",
   "nbconvert_exporter": "python",
   "pygments_lexer": "ipython3",
   "version": "3.11.5"
  }
 },
 "nbformat": 4,
 "nbformat_minor": 5
}
